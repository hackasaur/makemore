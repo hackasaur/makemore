{
  "nbformat": 4,
  "nbformat_minor": 0,
  "metadata": {
    "colab": {
      "provenance": []
    },
    "kernelspec": {
      "name": "python3",
      "display_name": "Python 3"
    },
    "language_info": {
      "name": "python"
    }
  },
  "cells": [
    {
      "cell_type": "code",
      "execution_count": null,
      "metadata": {
        "id": "dAyFgeROTC5c"
      },
      "outputs": [],
      "source": [
        "import torch\n",
        "import torch.nn.functional as F\n",
        "import matplotlib.pyplot as plt # for making figures\n",
        "%matplotlib inline"
      ]
    },
    {
      "cell_type": "code",
      "source": [
        "words = open('first_name.txt', 'r').read().splitlines()\n",
        "words = [w.lower() for w in words]"
      ],
      "metadata": {
        "id": "cOpfIBuxTXY4"
      },
      "execution_count": null,
      "outputs": []
    },
    {
      "cell_type": "code",
      "source": [
        "# build the vocabulary of characters and mappings to/from integers\n",
        "chars = sorted(list(set(''.join(words))))\n",
        "stoi = {s:i+1 for i,s in enumerate(chars)}\n",
        "stoi['.'] = 0\n",
        "itos = {i:s for s,i in stoi.items()}\n",
        "print(itos)"
      ],
      "metadata": {
        "colab": {
          "base_uri": "https://localhost:8080/"
        },
        "id": "A4mSV8A9TmQl",
        "outputId": "9af5d87e-bf47-4f9f-bf16-96d57845927d"
      },
      "execution_count": null,
      "outputs": [
        {
          "output_type": "stream",
          "name": "stdout",
          "text": [
            "{1: 'a', 2: 'b', 3: 'c', 4: 'd', 5: 'e', 6: 'f', 7: 'g', 8: 'h', 9: 'i', 10: 'j', 11: 'k', 12: 'l', 13: 'm', 14: 'n', 15: 'o', 16: 'p', 17: 'q', 18: 'r', 19: 's', 20: 't', 21: 'u', 22: 'v', 23: 'w', 24: 'x', 25: 'y', 26: 'z', 0: '.'}\n"
          ]
        }
      ]
    },
    {
      "cell_type": "code",
      "source": [
        "# build the dataset\n",
        "block_size = 3 # context length: how many characters do we take to predict the next one?\n",
        "X, Y = [], []\n",
        "print(words[:1])\n",
        "for w in words[:1]:\n",
        "  print(w)\n",
        "  context = [0] * block_size\n",
        "  for ch in w + '.':\n",
        "    ix = stoi[ch]\n",
        "    X.append(context)\n",
        "    Y.append(ix)\n",
        "    print(''.join(itos[i] for i in context), '--->', itos[ix])\n",
        "    context = context[1:] + [ix] # crop and append\n",
        "\n",
        "X = torch.tensor(X)\n",
        "Y = torch.tensor(Y)"
      ],
      "metadata": {
        "colab": {
          "base_uri": "https://localhost:8080/"
        },
        "id": "LFuStTrAq6Ct",
        "outputId": "ad264229-a3d8-45dc-9eb3-97eead3f61c8"
      },
      "execution_count": null,
      "outputs": [
        {
          "output_type": "stream",
          "name": "stdout",
          "text": [
            "['aachal']\n",
            "aachal\n",
            "... ---> a\n",
            "..a ---> a\n",
            ".aa ---> c\n",
            "aac ---> h\n",
            "ach ---> a\n",
            "cha ---> l\n",
            "hal ---> .\n"
          ]
        }
      ]
    },
    {
      "cell_type": "code",
      "source": [
        "# build the dataset\n",
        "block_size = 3 # context length: how many characters do we take to predict the next one?\n",
        "\n",
        "def build_dataset(words):\n",
        "  X, Y = [], []\n",
        "  for w in words:\n",
        "\n",
        "    #print(w)\n",
        "    context = [0] * block_size\n",
        "    for ch in w + '.':\n",
        "      ix = stoi[ch]\n",
        "      X.append(context)\n",
        "      Y.append(ix)\n",
        "      #print(''.join(itos[i] for i in context), '--->', itos[ix])\n",
        "      context = context[1:] + [ix] # crop and append\n",
        "\n",
        "  X = torch.tensor(X, dtype = torch.torch.long)\n",
        "  Y = torch.tensor(Y, dtype = torch.long)\n",
        "  print(X.shape, Y.shape)\n",
        "  return X, Y\n",
        "\n",
        "import random\n",
        "random.seed(42)\n",
        "random.shuffle(words)\n",
        "n1 = int(0.8*len(words))\n",
        "n2 = int(0.9*len(words))\n",
        "\n",
        "Xtr, Ytr = build_dataset(words[:n1])\n",
        "Xdev, Ydev = build_dataset(words[n1:n2])\n",
        "Xte, Yte = build_dataset(words[n2:])"
      ],
      "metadata": {
        "colab": {
          "base_uri": "https://localhost:8080/"
        },
        "id": "uQfI9xRRVFt6",
        "outputId": "a202e5b4-3167-4c8c-814d-001d95e89f87"
      },
      "execution_count": null,
      "outputs": [
        {
          "output_type": "stream",
          "name": "stdout",
          "text": [
            "torch.Size([13129, 3]) torch.Size([13129])\n",
            "torch.Size([1623, 3]) torch.Size([1623])\n",
            "torch.Size([1630, 3]) torch.Size([1630])\n"
          ]
        }
      ]
    },
    {
      "cell_type": "code",
      "source": [
        "g = torch.Generator().manual_seed(2147483647) # for reproducibility\n",
        "C = torch.randn((27, 10), generator=g)\n",
        "W1 = torch.randn((30, 100), generator=g)\n",
        "b1 = torch.randn(100, generator=g)\n",
        "W2 = torch.randn((100, 27), generator=g)\n",
        "b2 = torch.randn(27, generator=g)\n",
        "parameters = [C, W1, b1, W2, b2]"
      ],
      "metadata": {
        "id": "DRWjKf_YqzaP"
      },
      "execution_count": null,
      "outputs": []
    },
    {
      "cell_type": "code",
      "source": [
        "sum(p.nelement() for p in parameters) # number of parameters in total"
      ],
      "metadata": {
        "colab": {
          "base_uri": "https://localhost:8080/"
        },
        "id": "ZbV3Lo_ItCcV",
        "outputId": "936a9812-574f-4f2a-8252-29bcbb2651c8"
      },
      "execution_count": null,
      "outputs": [
        {
          "output_type": "execute_result",
          "data": {
            "text/plain": [
              "6097"
            ]
          },
          "metadata": {},
          "execution_count": 45
        }
      ]
    },
    {
      "cell_type": "code",
      "source": [
        "for p in parameters:\n",
        "  p.requires_grad = True"
      ],
      "metadata": {
        "id": "MqFgBDZbtGRK"
      },
      "execution_count": null,
      "outputs": []
    },
    {
      "cell_type": "code",
      "source": [
        "lri = []\n",
        "lossi = []\n",
        "stepi = []"
      ],
      "metadata": {
        "id": "mH-HQ-A1IZ_2"
      },
      "execution_count": null,
      "outputs": []
    },
    {
      "cell_type": "code",
      "source": [
        "for i in range(20000):\n",
        "\n",
        "  # minibatch construct\n",
        "  ix = torch.randint(0, Xtr.shape[0], (32,))\n",
        "\n",
        "  # forward pass\n",
        "  emb = C[Xtr[ix]] # (32, 3, 10)\n",
        "  h = torch.tanh(emb.view(-1, 30) @ W1 + b1) # (32, 200)\n",
        "  logits = h @ W2 + b2 # (32, 27)\n",
        "  loss = F.cross_entropy(logits, Ytr[ix])\n",
        "  #print(loss.item())\n",
        "\n",
        "  # backward pass\n",
        "  for p in parameters:\n",
        "    p.grad = None\n",
        "  loss.backward()\n",
        "\n",
        "  # update\n",
        "  #lr = lrs[i]\n",
        "  lr = 0.1 if i < 10000 else 0.01\n",
        "  for p in parameters:\n",
        "    p.data += -lr * p.grad\n",
        "\n",
        "  # track stats\n",
        "  #lri.append(lre[i])\n",
        "  stepi.append(i)\n",
        "  lossi.append(loss.log10().item())\n",
        "\n",
        "#print(loss.item())"
      ],
      "metadata": {
        "id": "PpO9rDOsIfnQ"
      },
      "execution_count": null,
      "outputs": []
    },
    {
      "cell_type": "code",
      "source": [
        "plt.plot(stepi, lossi)"
      ],
      "metadata": {
        "colab": {
          "base_uri": "https://localhost:8080/",
          "height": 448
        },
        "id": "jVXKAepgIsj4",
        "outputId": "284d9652-bbdb-4808-b17a-0c82752a936a"
      },
      "execution_count": null,
      "outputs": [
        {
          "output_type": "execute_result",
          "data": {
            "text/plain": [
              "[<matplotlib.lines.Line2D at 0x7f2d3477d1e0>]"
            ]
          },
          "metadata": {},
          "execution_count": 95
        },
        {
          "output_type": "display_data",
          "data": {
            "text/plain": [
              "<Figure size 640x480 with 1 Axes>"
            ],
            "image/png": "[encoded data removed]"
          },
          "metadata": {}
        }
      ]
    },
    {
      "cell_type": "code",
      "source": [
        "emb = C[Xtr] # (32, 3, 2)\n",
        "h = torch.tanh(emb.view(-1, 30) @ W1 + b1) # (32, 100)\n",
        "logits = h @ W2 + b2 # (32, 27)\n",
        "loss = F.cross_entropy(logits, Ytr)\n",
        "loss"
      ],
      "metadata": {
        "colab": {
          "base_uri": "https://localhost:8080/"
        },
        "id": "XjO3g-IgI1hS",
        "outputId": "de08d590-cf3e-4fe4-cc8f-9865f24916ac"
      },
      "execution_count": null,
      "outputs": [
        {
          "output_type": "execute_result",
          "data": {
            "text/plain": [
              "tensor(1.9453, grad_fn=<NllLossBackward0>)"
            ]
          },
          "metadata": {},
          "execution_count": 96
        }
      ]
    },
    {
      "cell_type": "code",
      "source": [
        "emb = C[Xdev] # (32, 3, 2)\n",
        "h = torch.tanh(emb.view(-1, 30) @ W1 + b1) # (32, 100)\n",
        "logits = h @ W2 + b2 # (32, 27)\n",
        "loss = F.cross_entropy(logits, Ydev)\n",
        "loss"
      ],
      "metadata": {
        "colab": {
          "base_uri": "https://localhost:8080/"
        },
        "id": "htY3K6D_Iyv1",
        "outputId": "7e7530d4-f303-4cd9-cd97-0477acf921f7"
      },
      "execution_count": null,
      "outputs": [
        {
          "output_type": "execute_result",
          "data": {
            "text/plain": [
              "tensor(2.2759, grad_fn=<NllLossBackward0>)"
            ]
          },
          "metadata": {},
          "execution_count": 97
        }
      ]
    },
    {
      "cell_type": "code",
      "source": [
        "# visualize dimensions 0 and 1 of the embedding matrix C for all characters\n",
        "plt.figure(figsize=(8,8))\n",
        "plt.scatter(C[:,0].data, C[:,1].data, s=200)\n",
        "for i in range(C.shape[0]):\n",
        "    plt.text(C[i,0].item(), C[i,1].item(), itos[i], ha=\"center\", va=\"center\", color='white')\n",
        "plt.grid('minor')"
      ],
      "metadata": {
        "colab": {
          "base_uri": "https://localhost:8080/",
          "height": 679
        },
        "id": "7LqUqRl9I3FV",
        "outputId": "cdc96dac-2005-43e1-afba-b7260a2b5630"
      },
      "execution_count": null,
      "outputs": [
        {
          "output_type": "display_data",
          "data": {
            "text/plain": [
              "<Figure size 800x800 with 1 Axes>"
            ],
            "image/png": "[encoded data removed]"
          },
          "metadata": {}
        }
      ]
    },
    {
      "cell_type": "code",
      "source": [
        "# sample from the neural net\n",
        "g = torch.Generator().manual_seed(2147483646+2)\n",
        "\n",
        "for i in range(20):\n",
        "  out = []\n",
        "  context = [0] * block_size\n",
        "  while True:\n",
        "    # forward pass\n",
        "    emb = C[context] # (32, 3, 10)\n",
        "    h = torch.tanh(emb.view(-1, 30) @ W1 + b1) # (32, 200)\n",
        "    logits = h @ W2 + b2 # (32, 27)\n",
        "    # loss = F.cross_entropy(logits, Ytr[ix])\n",
        "    counts = logits.exp() # counts, equivalent to N\n",
        "    p = counts / counts.sum(1, keepdims=True) # probabilities for next character\n",
        "    # ---------\n",
        "\n",
        "    ix = torch.multinomial(p, num_samples=1, replacement=True, generator=g).item()\n",
        "    context = context[1:] + [ix]\n",
        "    out.append(itos[ix])\n",
        "    if ix == 0:\n",
        "      break\n",
        "  print(''.join(out))"
      ],
      "metadata": {
        "colab": {
          "base_uri": "https://localhost:8080/"
        },
        "id": "muUPyetRMkKl",
        "outputId": "e247eca4-aa7e-49e1-da4f-4297d35f1760"
      },
      "execution_count": null,
      "outputs": [
        {
          "output_type": "stream",
          "name": "stdout",
          "text": [
            "sanjuni.\n",
            "rasi.\n",
            "asekan.\n",
            "areinkhalavish.\n",
            "adi.\n",
            "ubhiya.\n",
            "indeep.\n",
            "jyoatm.\n",
            "jignad.\n",
            "karyan.\n",
            "yas.\n",
            "tusha.\n",
            "elaswaa.\n",
            "ishaash.\n",
            "xalin.\n",
            "apratji.\n",
            "lali.\n",
            "maya.\n",
            "junavishishwarunivyan.\n",
            "tarathar.\n"
          ]
        }
      ]
    },
    {
      "cell_type": "markdown",
      "source": [
        "### implementing the same using nn.Sequential"
      ],
      "metadata": {
        "id": "80eH5yQeiINs"
      }
    },
    {
      "cell_type": "code",
      "source": [
        "g = torch.Generator().manual_seed(2147483647) # for reproducibility\n",
        "embedding_dims = 10\n",
        "neurons_no = 200\n",
        "C = torch.randn((27, embedding_dims), generator=g)\n"
      ],
      "metadata": {
        "id": "eVQ2nb7siZIz"
      },
      "execution_count": null,
      "outputs": []
    },
    {
      "cell_type": "code",
      "source": [
        "stepi = []\n",
        "lossi = []"
      ],
      "metadata": {
        "id": "ziI3ixLvaYmi"
      },
      "execution_count": null,
      "outputs": []
    },
    {
      "cell_type": "code",
      "source": [
        "import torch.nn as nn\n",
        "\n",
        "# model = nn.Sequential(\n",
        "#             nn.Linear(block_size * embeding_dims, neurons_no),\n",
        "#             nn.Tanh(),\n",
        "#             nn.Linear(neurons_no, 27),\n",
        "#           )\n",
        "\n",
        "model = nn.Sequential(\n",
        "            nn.Embedding(27, embedding_dims),\n",
        "            nn.Flatten(),\n",
        "            nn.Linear(block_size * embedding_dims, neurons_no),\n",
        "            nn.Tanh(),\n",
        "            nn.Linear(neurons_no, 27),\n",
        "          )\n",
        "\n",
        "lr=0.1\n",
        "momentum=0.9\n",
        "\n",
        "optimizer = torch.optim.SGD(model.parameters(), lr=lr, momentum=momentum, nesterov=True)\n",
        "# scheduler = StepLR(optimizer, step_size=1, gamma=0.1)\n",
        "\n",
        "for i in range(20000):\n",
        "  model.train()\n",
        "  # minibatch construct\n",
        "  ix = torch.randint(0, Xtr.shape[0], (64,))\n",
        "\n",
        "  # forward pass\n",
        "  # emb = C[Xtr[ix]] # (32, 3, 10)\n",
        "  out = model(Xtr[[ix]])\n",
        "\n",
        "  loss = F.cross_entropy(out, Ytr[ix])\n",
        "\n",
        "  #update\n",
        "  optimizer.zero_grad()\n",
        "  loss.backward()\n",
        "  optimizer.step()\n",
        "  # scheduler.step()\n",
        "\n",
        "  stepi.append(i)\n",
        "  lossi.append(loss.log10().data.item())"
      ],
      "metadata": {
        "id": "fKzOVIy2ILrR"
      },
      "execution_count": null,
      "outputs": []
    },
    {
      "cell_type": "code",
      "source": [
        "plt.plot(stepi, lossi)"
      ],
      "metadata": {
        "colab": {
          "base_uri": "https://localhost:8080/",
          "height": 448
        },
        "id": "0AL98PfTaRQT",
        "outputId": "2060c36c-8601-4104-88b5-1e177f83e2d8"
      },
      "execution_count": null,
      "outputs": [
        {
          "output_type": "execute_result",
          "data": {
            "text/plain": [
              "[<matplotlib.lines.Line2D at 0x7fa759b1ddb0>]"
            ]
          },
          "metadata": {},
          "execution_count": 40
        },
        {
          "output_type": "display_data",
          "data": {
            "text/plain": [
              "<Figure size 640x480 with 1 Axes>"
            ],
            "image/png": "[encoded data removed]"
          },
          "metadata": {}
        }
      ]
    },
    {
      "cell_type": "code",
      "source": [
        "emb = C[Xtr] # (32, 3, 2)\n",
        "logits = model(emb.view(-1,block_size * embeding_dims))\n",
        "loss = F.cross_entropy(logits, Ytr)\n",
        "loss"
      ],
      "metadata": {
        "colab": {
          "base_uri": "https://localhost:8080/"
        },
        "id": "WjbdmePEcdv9",
        "outputId": "08245617-52de-4de6-f199-9666a720c422"
      },
      "execution_count": null,
      "outputs": [
        {
          "output_type": "execute_result",
          "data": {
            "text/plain": [
              "tensor(1.7785, grad_fn=<NllLossBackward0>)"
            ]
          },
          "metadata": {},
          "execution_count": 42
        }
      ]
    },
    {
      "cell_type": "code",
      "source": [
        "emb = C[Xdev] # (32, 3, 2)\n",
        "logits = model(emb.view(-1,block_size * embeding_dims))\n",
        "loss = F.cross_entropy(logits, Ydev)\n",
        "loss"
      ],
      "metadata": {
        "colab": {
          "base_uri": "https://localhost:8080/"
        },
        "id": "wDpUrn7ghfFG",
        "outputId": "f32eb9ba-7812-439e-df4b-50256b2332ef"
      },
      "execution_count": null,
      "outputs": [
        {
          "output_type": "execute_result",
          "data": {
            "text/plain": [
              "tensor(2.2367, grad_fn=<NllLossBackward0>)"
            ]
          },
          "metadata": {},
          "execution_count": 43
        }
      ]
    },
    {
      "cell_type": "code",
      "source": [
        "# visualize dimensions 0 and 1 of the embedding matrix C for all characters\n",
        "plt.figure(figsize=(8,8))\n",
        "plt.scatter(C[:,0].data, C[:,1].data, s=200)\n",
        "for i in range(C.shape[0]):\n",
        "    plt.text(C[i,0].item(), C[i,1].item(), itos[i], ha=\"center\", va=\"center\", color='white')\n",
        "plt.grid('minor')"
      ],
      "metadata": {
        "colab": {
          "base_uri": "https://localhost:8080/",
          "height": 676
        },
        "id": "iHx5tW9ykc7g",
        "outputId": "6dfae82c-5cb4-4103-a12f-1dfd76d7d8df"
      },
      "execution_count": null,
      "outputs": [
        {
          "output_type": "display_data",
          "data": {
            "text/plain": [
              "<Figure size 800x800 with 1 Axes>"
            ],
            "image/png": "[encoded data removed]"
          },
          "metadata": {}
        }
      ]
    },
    {
      "cell_type": "code",
      "source": [
        "# sample from the neural net\n",
        "g = torch.Generator().manual_seed(2147483646+2)\n",
        "\n",
        "for i in range(20):\n",
        "  out = []\n",
        "  context = [0] * block_size\n",
        "  while True:\n",
        "    # forward pass\n",
        "    emb = C[context] # (32, 3, 10)\n",
        "    # h = torch.tanh(emb.view(-1, 30) @ W1 + b1) # (32, 200)\n",
        "    # logits = h @ W2 + b2 # (32, 27)\n",
        "    logits = model(torch.tensor([context]))\n",
        "    # loss = F.cross_entropy(logits, Ytr[ix])\n",
        "    counts = logits.exp() # counts, equivalent to N\n",
        "    p = counts / counts.sum(1, keepdims=True) # probabilities for next character\n",
        "    # ---------\n",
        "\n",
        "    ix = torch.multinomial(p, num_samples=1, replacement=True, generator=g).item()\n",
        "    context = context[1:] + [ix]\n",
        "    out.append(itos[ix])\n",
        "    if ix == 0:\n",
        "      break\n",
        "  print(''.join(out))"
      ],
      "metadata": {
        "colab": {
          "base_uri": "https://localhost:8080/"
        },
        "id": "7DHd4fTwYEVb",
        "outputId": "753a275a-06c0-4812-e6ec-aca5ff98b96d"
      },
      "execution_count": null,
      "outputs": [
        {
          "output_type": "stream",
          "name": "stdout",
          "text": [
            "sanjaidosh.\n",
            "lak.\n",
            "sanmol.\n",
            "riddhesh.\n",
            "shibani.\n",
            "usmibran.\n",
            "sham.\n",
            "jasp.\n",
            "sujit.\n",
            "sarugnehs.\n",
            "yashti.\n",
            "gurya.\n",
            "agya.\n",
            "indejassha.\n",
            "koopevoajit.\n",
            "sank.\n",
            "sahijesh.\n",
            "nishit.\n",
            "anum.\n",
            "virith.\n"
          ]
        }
      ]
    }
  ]
}